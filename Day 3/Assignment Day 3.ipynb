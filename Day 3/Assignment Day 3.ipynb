{
 "cells": [
  {
   "cell_type": "code",
   "execution_count": 15,
   "metadata": {},
   "outputs": [
    {
     "data": {
      "text/plain": [
       "(-2-2j)"
      ]
     },
     "execution_count": 15,
     "metadata": {},
     "output_type": "execute_result"
    }
   ],
   "source": [
    "t = complex(2,3) - complex(4,5)\n",
    "t"
   ]
  },
  {
   "cell_type": "code",
   "execution_count": 20,
   "metadata": {},
   "outputs": [
    {
     "name": "stdout",
     "output_type": "stream",
     "text": [
      "Enter:81\n"
     ]
    },
    {
     "data": {
      "text/plain": [
       "3.0"
      ]
     },
     "execution_count": 20,
     "metadata": {},
     "output_type": "execute_result"
    }
   ],
   "source": [
    "a = int(input(\"Enter:\"))\n",
    "b = (a**(1/4))\n",
    "b"
   ]
  },
  {
   "cell_type": "code",
   "execution_count": 21,
   "metadata": {},
   "outputs": [
    {
     "name": "stdout",
     "output_type": "stream",
     "text": [
      "Enter a:8\n",
      "Enter b:2\n",
      "2 8\n"
     ]
    }
   ],
   "source": [
    "a = int(input(\"Enter a:\"))\n",
    "b = int(input(\"Enter b:\"))\n",
    "c = b\n",
    "b = a\n",
    "a = c\n",
    "print(a,b)"
   ]
  },
  {
   "cell_type": "code",
   "execution_count": 22,
   "metadata": {},
   "outputs": [
    {
     "name": "stdout",
     "output_type": "stream",
     "text": [
      "Enter x:7\n",
      "Enter y:9\n",
      "9 7\n"
     ]
    }
   ],
   "source": [
    "x = int(input(\"Enter x:\"))\n",
    "y = int(input(\"Enter y:\"))\n",
    "x, y = y, x \n",
    "print(x,y)"
   ]
  },
  {
   "cell_type": "code",
   "execution_count": 24,
   "metadata": {},
   "outputs": [
    {
     "name": "stdout",
     "output_type": "stream",
     "text": [
      "Enter Fahrenheit:120\n",
      "Kelvin =  322.3888888888889 Celsius =  48.888888888888886\n"
     ]
    }
   ],
   "source": [
    "F = float(input(\"Enter Fahrenheit:\"))\n",
    "K = 273.5 + ((F-32.0) * (5.0/9.0))\n",
    "C = (F-32) * 5/9\n",
    "print(\"Kelvin = \", K, \"Celsius = \", C)"
   ]
  },
  {
   "cell_type": "code",
   "execution_count": 35,
   "metadata": {},
   "outputs": [
    {
     "name": "stdout",
     "output_type": "stream",
     "text": [
      "<class 'int'>\n",
      "<class 'float'>\n",
      "<class 'str'>\n",
      "<class 'complex'>\n",
      "<class 'list'>\n",
      "<class 'tuple'>\n",
      "<class 'set'>\n",
      "<class 'dict'>\n"
     ]
    }
   ],
   "source": [
    "print(type(2))\n",
    "print(type(2.0))\n",
    "print(type(\"Hey\"))\n",
    "print(type(2+3j))\n",
    "print(type([1, 9.3, 'hey']))\n",
    "print(type((1, 9, 3)))\n",
    "print(type({5,2,3,1,4}))\n",
    "print(type({1:'value','key':2}))"
   ]
  },
  {
   "cell_type": "markdown",
   "metadata": {},
   "source": [
    "Github Profile"
   ]
  },
  {
   "cell_type": "markdown",
   "metadata": {},
   "source": [
    "1. Open Github (github.com)\n",
    "2. Create account\n",
    "3. Press the New button at the left top part of the screen\n",
    "4. Enter the repository name, description, by default it will be in public view\n",
    "5. Press upload existing file\n",
    "6. Upload the folder which has the files for uploading\n",
    "7. Press commit button\n"
   ]
  }
 ],
 "metadata": {
  "kernelspec": {
   "display_name": "Python 3",
   "language": "python",
   "name": "python3"
  },
  "language_info": {
   "codemirror_mode": {
    "name": "ipython",
    "version": 3
   },
   "file_extension": ".py",
   "mimetype": "text/x-python",
   "name": "python",
   "nbconvert_exporter": "python",
   "pygments_lexer": "ipython3",
   "version": "3.7.6"
  }
 },
 "nbformat": 4,
 "nbformat_minor": 4
}
